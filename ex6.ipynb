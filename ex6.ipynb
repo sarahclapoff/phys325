{
 "cells": [
  {
   "cell_type": "markdown",
   "metadata": {},
   "source": [
    "# Experiment 6: interferometry\n",
    "## Part 1"
   ]
  },
  {
   "cell_type": "code",
   "execution_count": 25,
   "metadata": {},
   "outputs": [],
   "source": [
    "import numpy as np"
   ]
  },
  {
   "cell_type": "code",
   "execution_count": 26,
   "metadata": {},
   "outputs": [
    {
     "name": "stdout",
     "output_type": "stream",
     "text": [
      "Average number of dial increments =  61.11999999999999  +-  3.130776780069374 %\n"
     ]
    }
   ],
   "source": [
    "start_pos = np.array([0, 0, 0, 5., 0])\n",
    "end_pos = np.array([58.8, 58.9, 62.6, 68.4, 61.9])\n",
    "distance = -1*(start_pos - end_pos)\n",
    "inc = np.mean(distance)\n",
    "inc_sig = np.std(distance)/diff\n",
    "print(\"Average number of dial increments = \", inc, \" +- \", inc_sig*100, \"%\")"
   ]
  },
  {
   "cell_type": "code",
   "execution_count": 20,
   "metadata": {},
   "outputs": [
    {
     "data": {
      "text/plain": [
       "(3.110629116396012e-05, 9.926174318768771e-07, 'm')"
      ]
     },
     "execution_count": 20,
     "metadata": {},
     "output_type": "execute_result"
    }
   ],
   "source": [
    "#calculating d:\n",
    "small_div = 1.62e-3 * np.pi /10000\n",
    "small_div_sig = .01e-3 / 1.62e-3\n",
    "d = diff*small_div29\n",
    "d_sig = np.sqrt(diff_sig**2 + small_div_sig**2)\n",
    "d, d_sig*d, \"m\""
   ]
  },
  {
   "cell_type": "code",
   "execution_count": 22,
   "metadata": {},
   "outputs": [
    {
     "name": "stdout",
     "output_type": "stream",
     "text": [
      "5.337088360398825e-07\n"
     ]
    },
    {
     "data": {
      "text/plain": [
       "9.926174318768771e-07"
      ]
     },
     "execution_count": 22,
     "metadata": {},
     "output_type": "execute_result"
    }
   ],
   "source": [
    "#consistency check\n",
    "print(abs(d - 3.164e-5))\n",
    "abs(d_sig*d)"
   ]
  },
  {
   "cell_type": "markdown",
   "metadata": {},
   "source": [
    "## Part 2"
   ]
  },
  {
   "cell_type": "code",
   "execution_count": 15,
   "metadata": {},
   "outputs": [
    {
     "name": "stdout",
     "output_type": "stream",
     "text": [
      "n =  42.833333333333336  +-  0.01604321255104148\n"
     ]
    }
   ],
   "source": [
    "num_fringes = [42, 42, 43, 44, 43, 43]\n",
    "n = np.mean(num_fringes)\n",
    "n_sig = np.std(num_fringes)/n\n",
    "print('n = ', n, ' +- ', n_sig)"
   ]
  },
  {
   "cell_type": "code",
   "execution_count": null,
   "metadata": {},
   "outputs": [],
   "source": []
  }
 ],
 "metadata": {
  "kernelspec": {
   "display_name": "Python 3",
   "language": "python",
   "name": "python3"
  },
  "language_info": {
   "codemirror_mode": {
    "name": "ipython",
    "version": 3
   },
   "file_extension": ".py",
   "mimetype": "text/x-python",
   "name": "python",
   "nbconvert_exporter": "python",
   "pygments_lexer": "ipython3",
   "version": "3.7.4"
  }
 },
 "nbformat": 4,
 "nbformat_minor": 2
}
