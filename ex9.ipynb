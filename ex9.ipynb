{
 "cells": [
  {
   "cell_type": "code",
   "execution_count": 2,
   "metadata": {},
   "outputs": [],
   "source": [
    "import numpy as np"
   ]
  },
  {
   "cell_type": "code",
   "execution_count": 8,
   "metadata": {},
   "outputs": [
    {
     "name": "stdout",
     "output_type": "stream",
     "text": [
      "Delta x = 0.009416\n",
      "Measured delta x = 0.009500 || % Difference = 0.891413%\n",
      "Measured delta x = 0.009504 || % Difference = 0.938141%\n",
      "Measured delta x = 0.009814 || % Difference = 4.226139%\n",
      "Measured delta x = 0.009164 || % Difference = 2.678019%\n"
     ]
    }
   ],
   "source": [
    "dx1 = 1.116*632.8e-9/.000075\n",
    "li = np.array([.0095, .0095044, .0098140, .0091639])\n",
    "diff = abs((li - dx1)/dx1)*100\n",
    "print(\"Delta x = {:.6f}\".format(dx1))\n",
    "for j,k in zip(li, diff):\n",
    "    print(\"Measured delta x = {:.6f} || % Difference = {:.6f}%\".format(j,k))"
   ]
  },
  {
   "cell_type": "code",
   "execution_count": 21,
   "metadata": {},
   "outputs": [
    {
     "name": "stdout",
     "output_type": "stream",
     "text": [
      "0.003070455652173913\n",
      "[0.0032267  0.0029457  0.00315246 0.0031271  0.00305847]\n",
      "[ 0.05088637 -0.04063099  0.02670755  0.01844819 -0.00390354]\n"
     ]
    }
   ],
   "source": [
    "#double slit\n",
    "dx2 = 1.116*632.8e-9/2.3e-4\n",
    "print(dx2)\n",
    "li2 = np.array([.0032267,.0029457, .00315246, .0031271, .00305847])\n",
    "diff2 = (li2 - dx2)/dx2\n",
    "print(li2)\n",
    "print(diff2)"
   ]
  },
  {
   "cell_type": "code",
   "execution_count": null,
   "metadata": {},
   "outputs": [],
   "source": []
  }
 ],
 "metadata": {
  "kernelspec": {
   "display_name": "Python 3",
   "language": "python",
   "name": "python3"
  },
  "language_info": {
   "codemirror_mode": {
    "name": "ipython",
    "version": 3
   },
   "file_extension": ".py",
   "mimetype": "text/x-python",
   "name": "python",
   "nbconvert_exporter": "python",
   "pygments_lexer": "ipython3",
   "version": "3.7.4"
  }
 },
 "nbformat": 4,
 "nbformat_minor": 2
}
