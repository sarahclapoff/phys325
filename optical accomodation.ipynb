{
 "cells": [
  {
   "cell_type": "code",
   "execution_count": 1,
   "metadata": {},
   "outputs": [],
   "source": [
    "import numpy as np\n",
    "import sympy as sm\n",
    "#measurements: http://hyperphysics.phy-astr.gsu.edu/hbase/vision/eyescal.html"
   ]
  },
  {
   "cell_type": "code",
   "execution_count": 2,
   "metadata": {},
   "outputs": [],
   "source": [
    "#focal length\n",
    "def f(n1,n2,r):\n",
    "    return r/(n2-n1)\n",
    "\n",
    "#translation\n",
    "def T(d):\n",
    "    return sm.Matrix([[1,d],[0,1]])\n",
    "\n",
    "#refraction\n",
    "def R(n1,n2,f):\n",
    "    return sm.Matrix([[1,0],[-(1/n2*f), n1/n2]])\n",
    "\n",
    "#thin lens\n",
    "def L_thin(f1,f2):\n",
    "    return sm.Matrix([[1,0],[-(1/f1 + 1/f2), 1]])\n",
    "\n",
    "def L_thick(R1,T,R2):\n",
    "    mult = R2*T\n",
    "    return R1*mult"
   ]
  },
  {
   "cell_type": "code",
   "execution_count": 7,
   "metadata": {},
   "outputs": [],
   "source": [
    "#section 1: air\n",
    "d0 = sm.symbols('d0')\n",
    "\n",
    "#section 2: cornea (thick lens, constant)\n",
    "dc = .449e-3\n",
    "Rc1 = 7.259e-3\n",
    "Rc2 = 5.585e-3\n",
    "nair = 1\n",
    "nc = 1.376\n",
    "nah = 1.336\n",
    "fc1 = f(nair,nc,Rc1)\n",
    "fc2 = f(nc,nah,Rc2)\n",
    "\n",
    "#section 3 (translation through AH, dah constant)\n",
    "dah = 2.794e-3\n",
    "\n",
    "#4: lens (assume nl constant (it varies w/ depth into lens); dl, Rl1, Rl2 are what change here)\n",
    "# really it's a series of thin lenses but that doesn't sound fun, treat as thick lens\n",
    "dl, Rl1, Rl2 = sm.symbols('dl, Rl1, Rl2')\n",
    "dl = 4e-3 #assume constant thickness to simplify?\n",
    "nl = 1.396 #nl ranges from 1.406 - 1.386\n",
    "nvh = 1.337 #vitreous humor\n",
    "fl1 = f(nah, nl, Rl1)\n",
    "fl2 = f(nl,nvh, Rl2)\n",
    "#considering how these focal lengths change? 1/f=1/d0+1/di\n",
    "#fl1,fl2 = sm.symbols('fl1, fl2')\n",
    "\n",
    "#5: vitreous humor (translation)\n",
    "dvh = 24e-3 - dc - dah - dl #maybe assume constant if it's too complicated  - yes"
   ]
  },
  {
   "cell_type": "code",
   "execution_count": 67,
   "metadata": {},
   "outputs": [
    {
     "data": {
      "text/latex": [
       "$\\displaystyle \\left[\\begin{matrix}1.0005900755178 - 0.0477672074512753 Rl_{1} & - 0.000115459445407935 Rl_{1} + d_{0} \\left(1.0005900755178 - 0.0477672074512753 Rl_{1}\\right) + 0.00528318084636646\\\\- 11.9418018628188 Rl_{1} \\left(0.0507080105979743 Rl_{2} + 1.04412864622289\\right) + 12.6844830383961 Rl_{2} + 0.0899912261381107 & - 0.0288648613519837 Rl_{1} \\left(0.0507080105979743 Rl_{2} + 1.04412864622289\\right) + 0.0669748975871412 Rl_{2} + d_{0} \\left(- 11.9418018628188 Rl_{1} \\left(0.0507080105979743 Rl_{2} + 1.04412864622289\\right) + 12.6844830383961 Rl_{2} + 0.0899912261381107\\right) + 0.747977233189216\\end{matrix}\\right]$"
      ],
      "text/plain": [
       "Matrix([\n",
       "[                                                                     1.0005900755178 - 0.0477672074512753*Rl1,                                                                                                                                       -0.000115459445407935*Rl1 + d0*(1.0005900755178 - 0.0477672074512753*Rl1) + 0.00528318084636646],\n",
       "[-11.9418018628188*Rl1*(0.0507080105979743*Rl2 + 1.04412864622289) + 12.6844830383961*Rl2 + 0.0899912261381107, -0.0288648613519837*Rl1*(0.0507080105979743*Rl2 + 1.04412864622289) + 0.0669748975871412*Rl2 + d0*(-11.9418018628188*Rl1*(0.0507080105979743*Rl2 + 1.04412864622289) + 12.6844830383961*Rl2 + 0.0899912261381107) + 0.747977233189216]])"
      ]
     },
     "execution_count": 67,
     "metadata": {},
     "output_type": "execute_result"
    }
   ],
   "source": [
    "#matrices \n",
    "T1 = T(d0)\n",
    "L2_1 = R(nair,nc,fc1)\n",
    "L2_2 = T(dc)\n",
    "L2_3 = R(nc,nah,fc2)\n",
    "T3 = T(dah)\n",
    "L4_1 = R(nah, nl, fl1)\n",
    "L4_2 = T(dl)\n",
    "L4_3 = R(nl, nvh, fl2)\n",
    "T5 = T(dvh)\n",
    "#system matrix for light entering the eye:\n",
    "# don't want T5(end of lens to retina) bc we're trying to find that focal length (to test)\n",
    "#bc these are the focal lengths we're trying to find\n",
    "M = L4_3*L4_2*L4_1*T3*L2_3*L2_2*L2_1*T1\n",
    "M"
   ]
  },
  {
   "cell_type": "code",
   "execution_count": 69,
   "metadata": {},
   "outputs": [
    {
     "name": "stdout",
     "output_type": "stream",
     "text": [
      "focal length of eye for light going in as a function of Rl1,Rl2: f_in =  (1.0005900755178 - 0.0477672074512753*Rl1)/(-11.9418018628188*Rl1*(0.0507080105979743*Rl2 + 1.04412864622289) + 12.6844830383961*Rl2 + 0.0899912261381107)\n"
     ]
    },
    {
     "data": {
      "text/plain": [
       "(16.10688529615115, 0.016756999999999998)"
      ]
     },
     "execution_count": 69,
     "metadata": {},
     "output_type": "execute_result"
    }
   ],
   "source": [
    "#find focal length: send collumated light in at alpha=0\n",
    "#this should always be a couple mm less than 24mm\n",
    "h1, a1 = sm.symbols('h1, a1')\n",
    "r_in = sm.Matrix([h1,0])\n",
    "r_out = M*r_in\n",
    "h2, a2 = r_out\n",
    "#a2 = h2/f\n",
    "f_in = h2/a2 #focal length for light entering eye (=di)\n",
    "print('focal length of eye for light going in as a function of Rl1,Rl2: f_in = ',f_in)\n",
    "#f_in is a list, just paste it here for simplicity\n",
    "f_in_eq = lambda Rl1, Rl2: (1.0005900755178 - 0.0477672074512753*Rl1)/(-11.9418018628188*Rl1*(0.0507080105979743*Rl2 + 1.04412864622289) + 12.6844830383961*Rl2 + 0.0899912261381107)\n",
    "\n",
    "f_in_eq(8.672e-3,6.328e-3), dvh #not bad, except for the order of magnitude"
   ]
  },
  {
   "cell_type": "code",
   "execution_count": 63,
   "metadata": {},
   "outputs": [
    {
     "data": {
      "text/latex": [
       "$\\displaystyle \\left[\\begin{matrix}- 0.0388798259533964 Rl_{1} + 12.6770026494936 Rl_{2} \\left(0.0071167945479003 - 0.000155519303813586 Rl_{1}\\right) + 1.00004692486901 & - 0.000813891403653469 Rl_{1} + 0.212428533397564 Rl_{2} \\left(0.0071167945479003 - 0.000155519303813586 Rl_{1}\\right) + 0.0241886353767756\\\\- 8.93827020490006 Rl_{1} + 12.6770026494936 Rl_{2} \\left(0.716739422687434 - 0.0357530808196002 Rl_{1}\\right) + 0.0619207656617446 & - 0.187109409697977 Rl_{1} + 0.212428533397564 Rl_{2} \\left(0.716739422687434 - 0.0357530808196002 Rl_{1}\\right) + 0.749405769375398\\end{matrix}\\right]$"
      ],
      "text/plain": [
       "Matrix([\n",
       "[-0.0388798259533964*Rl1 + 12.6770026494936*Rl2*(0.0071167945479003 - 0.000155519303813586*Rl1) + 1.00004692486901, -0.000813891403653469*Rl1 + 0.212428533397564*Rl2*(0.0071167945479003 - 0.000155519303813586*Rl1) + 0.0241886353767756],\n",
       "[   -8.93827020490006*Rl1 + 12.6770026494936*Rl2*(0.716739422687434 - 0.0357530808196002*Rl1) + 0.0619207656617446,        -0.187109409697977*Rl1 + 0.212428533397564*Rl2*(0.716739422687434 - 0.0357530808196002*Rl1) + 0.749405769375398]])"
      ]
     },
     "execution_count": 63,
     "metadata": {},
     "output_type": "execute_result"
    }
   ],
   "source": [
    "#want to find relationship between lens radii and object disance, so want focal length of light leaving eye\n",
    "#again, no T1\n",
    "M_out = L2_1*L2_2*L2_3*T3*L4_1*L4_2*L4_3*T5\n",
    "#system matrix for light leaving the eye:\n",
    "M_out"
   ]
  },
  {
   "cell_type": "code",
   "execution_count": 72,
   "metadata": {},
   "outputs": [
    {
     "name": "stdout",
     "output_type": "stream",
     "text": [
      "d0 as a function of Rl1, Rl2 =  (-0.0388798259533964*Rl1 + 12.6770026494936*Rl2*(0.0071167945479003 - 0.000155519303813586*Rl1) + 1.00004692486901)/(-8.93827020490006*Rl1 + 12.6770026494936*Rl2*(0.716739422687434 - 0.0357530808196002*Rl1) + 0.0619207656617446)\n",
      "\n",
      " testing focal length (ie. distance to object from eye) for different lens radii:\n",
      "focal length for light leaving eye with lens at radii 0.008672, 0.006328: f_out = 23.88438647\n",
      "focal length for light leaving eye with lens at radii 0.008570, 0.006170: f_out = 24.18617580\n",
      "focal length for light leaving eye with lens at radii 0.007000, 0.006000: f_out = 18.57580355\n",
      "focal length for light leaving eye with lens at radii 0.004000, 0.002000: f_out = 22.55651497\n"
     ]
    }
   ],
   "source": [
    "#now find d0 = consider focal length when sending light out\n",
    "#except now do we need to use a different r_in? since we're trying to take the opposite path of incoming light\n",
    "r_in = sm.Matrix([h1,0])\n",
    "r_out = M_out*r_in\n",
    "h2,a2 = r_out\n",
    "f_out = h2/a2 #=d0\n",
    "\n",
    "print('d0 as a function of Rl1, Rl2 = ',f_out)\n",
    "#f_out is a list, just paste it here for simplicity\n",
    "f_out_eq = lambda Rl1, Rl2: (-0.0388798259533964*Rl1 + 12.6770026494936*Rl2*(0.0071167945479003 - 0.000155519303813586*Rl1) + 1.00004692486901)/(-8.93827020490006*Rl1 + 12.6770026494936*Rl2*(0.716739422687434 - 0.0357530808196002*Rl1) + 0.0619207656617446)\n",
    "\n",
    "Rl1=8.672e-3; Rl2=6.328e-3\n",
    "d0_sol_2(Rl1,Rl2, 20e-3),d0_sol_1(Rl1,Rl2, di_sol_1)\n",
    "print('\\n testing focal length (ie. distance to object from eye) for different lens radii:')\n",
    "print('focal length for light leaving eye with lens at radii %.6f, %.6f: f_out = %.8f' %(Rl1,Rl2,f_out_eq(8.672e-3,6.328e-3)))\n",
    "Rl1=8.57e-3; Rl2=6.17e-3\n",
    "print('focal length for light leaving eye with lens at radii %.6f, %.6f: f_out = %.8f' %(Rl1,Rl2,f_out_eq(Rl1,Rl2) ))\n",
    "Rl1=7e-3; Rl2=6e-3\n",
    "print('focal length for light leaving eye with lens at radii %.6f, %.6f: f_out = %.8f' %(Rl1,Rl2,f_out_eq(Rl1,Rl2) ))\n",
    "Rl1=4e-3; Rl2=2e-3\n",
    "print('focal length for light leaving eye with lens at radii %.6f, %.6f: f_out = %.8f' %(Rl1,Rl2,f_out_eq(Rl1,Rl2) ))\n"
   ]
  },
  {
   "cell_type": "markdown",
   "metadata": {},
   "source": [
    "assumptions/approximations:\n",
    "- only considering one eye\n",
    "- small angle approx in focal length calculation\n",
    "- assuming constant nl\n",
    "- assuming constant lens thickness (dl), and thus constant vh thickness (dvh)\n",
    "- only considering h and alpha, (2 dimensions)\n",
    "- not considering relationship between dl and lens radii (i think this is a big one)"
   ]
  },
  {
   "cell_type": "code",
   "execution_count": null,
   "metadata": {},
   "outputs": [],
   "source": []
  }
 ],
 "metadata": {
  "kernelspec": {
   "display_name": "Python 3",
   "language": "python",
   "name": "python3"
  },
  "language_info": {
   "codemirror_mode": {
    "name": "ipython",
    "version": 3
   },
   "file_extension": ".py",
   "mimetype": "text/x-python",
   "name": "python",
   "nbconvert_exporter": "python",
   "pygments_lexer": "ipython3",
   "version": "3.7.4"
  }
 },
 "nbformat": 4,
 "nbformat_minor": 2
}
